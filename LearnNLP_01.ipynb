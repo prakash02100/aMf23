{
  "cells": [
    {
      "cell_type": "markdown",
      "metadata": {
        "id": "view-in-github",
        "colab_type": "text"
      },
      "source": [
        "<a href=\"https://colab.research.google.com/github/prakashdassr/Case-study-AI-IOT-ML/blob/main/LearnNLP_01.ipynb\" target=\"_parent\"><img src=\"https://colab.research.google.com/assets/colab-badge.svg\" alt=\"Open In Colab\"/></a>"
      ]
    },
    {
      "cell_type": "code",
      "execution_count": 6,
      "metadata": {
        "colab": {
          "base_uri": "https://localhost:8080/"
        },
        "id": "od7DdMzjuehL",
        "outputId": "23d2f787-338f-489c-cdbc-d3f955ffff88"
      },
      "outputs": [
        {
          "output_type": "stream",
          "name": "stdout",
          "text": [
            "Hello Prakash\n"
          ]
        }
      ],
      "source": [
        "print(\"Hello Prakash\")"
      ]
    },
    {
      "cell_type": "markdown",
      "metadata": {
        "id": "bzNc14qJwUCX"
      },
      "source": [
        "NUMPY --> numerical .py library<br>\n",
        "NLTK --> natural language toolkit<br>\n",
        "STRING --> to control strings in .py<br>\n",
        "RANDOM -->"
      ]
    },
    {
      "cell_type": "code",
      "execution_count": null,
      "metadata": {
        "colab": {
          "base_uri": "https://localhost:8080/"
        },
        "id": "_Z04Vbcyu_MH",
        "outputId": "9602dae7-f82b-4d65-cbad-3bfbce727425"
      },
      "outputs": [
        {
          "output_type": "stream",
          "name": "stderr",
          "text": [
            "[nltk_data] Downloading package punkt to /root/nltk_data...\n",
            "[nltk_data]   Unzipping tokenizers/punkt.zip.\n",
            "[nltk_data] Downloading package wordnet to /root/nltk_data...\n"
          ]
        },
        {
          "output_type": "stream",
          "name": "stdout",
          "text": [
            "Hello, I am ChatB, a AI language model here to assist you. Would you like to engage in a conversation with my counterpart,?\n"
          ]
        }
      ],
      "source": [
        "import numpy as nump\n",
        "import nltk\n",
        "import string\n",
        "import random\n",
        "\n",
        "f = open('mlinfotochat.txt','r',errors = 'ignore')\n",
        "raw_doc=f.read()\n",
        "raw_doc=raw_doc.lower()\n",
        "nltk.download('punkt')\n",
        "nltk.download('wordnet')\n",
        "sent_tokens = nltk.sent_tokenize(raw_doc)\n",
        "word_tokens = nltk.word_tokenize(raw_doc)\n",
        "\n",
        "lemmer = nltk.stem.WordNetLemmatizer()\n",
        "def LemTokens(tokens):\n",
        "  return [lemmer.lemmatize(token) for token in tokens]\n",
        "remove_punct_dict = dict((ord(punct),None) for punct in string.punctuation)\n",
        "def LemNormalize(text):\n",
        "  return LemTokens(nltk.word_tokenize(text.lower().translate(remove_punct_dict)))\n",
        "\n",
        "import random\n",
        "\n",
        "GREET_INPUTS = (\"hi\", \"hello\", \"hey\", \"greetings\", \"good morning\", \"good afternoon\", \"good evening\", \"yo\", \"what's up\")\n",
        "GREET_RESPONSES = (\"Hello there!\", \"Hi!\", \"Hey!\", \"Greetings!\", \"Good morning/afternoon/evening to you too!\", \"Yo!\", \"What's up?\")\n",
        "\n",
        "def greet(sentence):\n",
        "    for word in sentence.split():\n",
        "        if word.lower() in GREET_INPUTS:\n",
        "            return random.choice(GREET_RESPONSES)\n",
        "\n",
        "\n",
        "from sklearn.feature_extraction.text import TfidfVectorizer\n",
        "from sklearn.metrics.pairwise import cosine_similarity\n",
        "\n",
        "def response(user_response):\n",
        "  robo1_response=''\n",
        "  TfidfVec = TfidfVectorizer(tokenizer=LemNormalize, stop_words='english')\n",
        "  tfidf = TfidfVec.fit_transform(sent_tokens)\n",
        "  vals = cosine_similarity(tfidf[-1], tfidf)\n",
        "  idx = vals.argsort()[0][-2]\n",
        "  flat = vals.flatten()\n",
        "  flat.sort()\n",
        "  req_tfidf = flat[-2]\n",
        "  if(req_tfidf==0):\n",
        "    robo1_response=robo1_response+\"Hey! I apologize, as I am still under development, I can't find anything else you asked for.\"\n",
        "    return robo1_response\n",
        "  else:\n",
        "    robo1_response = robo1_response+sent_tokens[idx]\n",
        "    return robo1_response\n",
        "\n",
        "flag = True\n",
        "print(\"Hello, I am ChatB, a AI language model here to assist you. Would you like to engage in a conversation with my counterpart,?\")\n",
        "while(flag==True):\n",
        "  user_response = input()\n",
        "  user_response=user_response.lower()\n",
        "  if(user_response!='exit'):\n",
        "    if(user_response=='thanks' or user_response=='thank you'):\n",
        "      flag=False\n",
        "      print(\"chatB:  It was my pleasure!\")\n",
        "    else:\n",
        "      if(greet(user_response)!=None):\n",
        "        print(\"chatB:  \"+greet(user_response))\n",
        "      else:\n",
        "        sent_tokens.append(user_response)\n",
        "        word_tokens=word_tokens+nltk.word_tokenize(user_response)\n",
        "        final_words=list(set(word_tokens))\n",
        "        print(\"chatB:  \",end=\"\")\n",
        "        print(response(user_response))\n",
        "        sent_tokens.remove(user_response)\n",
        "  else:\n",
        "      flag=False\n",
        "      print(\"chatB:  GreaTTalk inbetween, Thanks! <3\")"
      ]
    },
    {
      "cell_type": "markdown",
      "metadata": {
        "id": "ut4DI8Y5wWFW"
      },
      "source": []
    },
    {
      "cell_type": "code",
      "execution_count": null,
      "metadata": {
        "id": "8djTX8eL0H2b"
      },
      "outputs": [],
      "source": [
        "f = open('COM ENG U3.txt','r',errors = 'ignore')\n",
        "raw_doc=f.read()\n",
        "raw_doc=raw_doc.lower()\n",
        "nltk.download('punkt')\n",
        "nltk.download('wordnet')\n",
        "sent_tokens = nltk.sent_tokenize(raw_doc)\n",
        "word_tokens = nltk.word_tokenize(raw_doc)"
      ]
    },
    {
      "cell_type": "code",
      "execution_count": null,
      "metadata": {
        "id": "OHvMLsr20n0B"
      },
      "outputs": [],
      "source": [
        "sent_tokens[:2] #to check sentence are tokenized"
      ]
    },
    {
      "cell_type": "code",
      "execution_count": null,
      "metadata": {
        "id": "eOg58RSP1B0J"
      },
      "outputs": [],
      "source": [
        "word_tokens[:3] #to check words were tokenized"
      ]
    },
    {
      "cell_type": "markdown",
      "metadata": {
        "id": "HPrrN2EE4Y6R"
      },
      "source": [
        "**Text Preprocessing**<br>\n",
        "lemmatization"
      ]
    },
    {
      "cell_type": "code",
      "execution_count": null,
      "metadata": {
        "id": "E0ZyAxd41euU"
      },
      "outputs": [],
      "source": [
        "lemmer = nltk.stem.WordNetLemmatizer()\n",
        "def LemTokens(tokens):\n",
        "  return [lemmer.lemmatize(token) for token in tokens]\n",
        "remove_punct_dict = dict((ord(punct),None) for punct in string.punctuation)\n",
        "def LemNormalize(text):\n",
        "  return LemTokens(nltk.word_tokenize(text.lower().translate(remove_punct_dict)))"
      ]
    },
    {
      "cell_type": "code",
      "execution_count": null,
      "metadata": {
        "id": "OaphAKOr4Jwb"
      },
      "outputs": [],
      "source": [
        "sent_tokens[:2] #checked another time"
      ]
    },
    {
      "cell_type": "code",
      "execution_count": null,
      "metadata": {
        "id": "pXfBapx54UPz"
      },
      "outputs": [],
      "source": [
        "GREET_INPUTS = (\"hi\", \"hello\", \"hey\", \"greetings\", \"good morning\", \"good afternoon\", \"good evening\")\n",
        "GREET_RESPONSES = (\"Hello there!\", \"Hi!\", \"Hey!\", \"Greetings!\", \"Good morning/afternoon/evening to you too!\")\n",
        "def greet(sentence):\n",
        "  for word in sentence.split():\n",
        "   if word.lower() in GREET_INPUTS:\n",
        "    return random.choice(GREET_RESPONSES)"
      ]
    },
    {
      "cell_type": "markdown",
      "metadata": {
        "id": "3b3rorUG9HPH"
      },
      "source": [
        "**RESPONSE GENERATION**\n",
        "<BR>\n",
        "*Tf* --> Term frequency(how many times a word repeated)<br>\n",
        "*id* --> inverse document frequency (how rare occurance of a word)"
      ]
    },
    {
      "cell_type": "code",
      "execution_count": null,
      "metadata": {
        "id": "CVldqL0i86am"
      },
      "outputs": [],
      "source": [
        "from sklearn.feature_extraction.text import TfidfVectorizer\n",
        "from sklearn.metrics.pairwise import cosine_similarity"
      ]
    },
    {
      "cell_type": "code",
      "execution_count": null,
      "metadata": {
        "id": "l1dt3vip-cc5"
      },
      "outputs": [],
      "source": [
        "def response(user_response):\n",
        "  robo1_response=''\n",
        "  TfidfVec = TfidfVectorizer(tokenizer=LemNormalize, stop_words='english')\n",
        "  tfidf = TfidfVec.fit_transform(sent_tokens)\n",
        "  vals = cosine_similarity(tfidf[-1], tfidf)\n",
        "  idx = vals.argsort()[0][-2]\n",
        "  flat = vals.flatten()\n",
        "  flat.sort()\n",
        "  req_tfidf = flat[-2]\n",
        "  if(req_tfidf==0):\n",
        "    robo1_response=robo1_response+\"Hey! I apologize, as I am still under development, I can't find anything else you asked for.\"\n",
        "    return robo1_response\n",
        "  else:\n",
        "    robo1_response = robo1_response+sent_tokens[idx]\n",
        "    return robo1_response"
      ]
    },
    {
      "cell_type": "code",
      "source": [
        "GREET_INPUTS = (\"hi\", \"hello\", \"hey\", \"greetings\", \"good morning\", \"good afternoon\", \"good evening\")\n",
        "GREET_RESPONSES = (\"Hello there!\", \"Hi!\", \"Hey!\", \"Greetings!\", \"Good morning/afternoon/evening to you too!\")\n",
        "def greet(sentence):\n",
        "  for word in sentence.split():\n",
        "   if word.lower() in GREET_INPUTS:\n",
        "    return random.choice(GREET_RESPONSES)"
      ],
      "metadata": {
        "id": "z-XVn9mVQxvv"
      },
      "execution_count": null,
      "outputs": []
    },
    {
      "cell_type": "code",
      "execution_count": null,
      "metadata": {
        "id": "qKHTJIauCW5s"
      },
      "outputs": [],
      "source": [
        "flag = True\n",
        "print(\"Hello, I am ChatB, a AI language model here to assist you. Would you like to engage in a conversation with my counterpart,?\")\n",
        "while(flag==True):\n",
        "  user_response = input()\n",
        "  user_response=user_response.lower()\n",
        "  if(user_response!='exit'):\n",
        "    if(user_response=='thanks' or user_response=='thank you'):\n",
        "      flag=False\n",
        "      print(\"chatB:  It was my pleasure!\")\n",
        "    else:\n",
        "      if(greet(user_response)!=None):\n",
        "        print(\"chatB:  \"+ greet(user_response))\n",
        "      else:\n",
        "        sent_tokens.append(user_response)\n",
        "        word_tokens=word_tokens+nltk.word_tokenize(user_response)\n",
        "        final_words=list(set(word_tokens))\n",
        "        print(\"chatB:  \",end=\"\")\n",
        "        print(response(user_response))\n",
        "        sent_tokens.remove(user_response)\n",
        "  else:\n",
        "      flag=False\n",
        "      print(\"chatB:  GreaTTalk inbetween, Thanks! <3\")"
      ]
    }
  ],
  "metadata": {
    "colab": {
      "provenance": [],
      "authorship_tag": "ABX9TyOecGfk/Ea6azxHbFbEdsCJ",
      "include_colab_link": true
    },
    "kernelspec": {
      "display_name": "Python 3",
      "name": "python3"
    },
    "language_info": {
      "name": "python"
    }
  },
  "nbformat": 4,
  "nbformat_minor": 0
}